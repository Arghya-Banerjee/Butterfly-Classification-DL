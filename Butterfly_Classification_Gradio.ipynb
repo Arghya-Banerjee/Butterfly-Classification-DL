{
 "cells": [
  {
   "cell_type": "code",
   "execution_count": 7,
   "id": "9eab6763",
   "metadata": {},
   "outputs": [],
   "source": [
    "import gradio as gr\n",
    "import requests\n",
    "import urllib\n",
    "import tensorflow as tf\n",
    "import numpy as np"
   ]
  },
  {
   "cell_type": "code",
   "execution_count": 9,
   "id": "0e6376e3",
   "metadata": {},
   "outputs": [
    {
     "name": "stderr",
     "output_type": "stream",
     "text": [
      "C:\\Users\\arghy\\AppData\\Local\\Programs\\Python\\Python311\\Lib\\site-packages\\gradio\\inputs.py:259: UserWarning: Usage of gradio.inputs is deprecated, and will not be supported in the future, please import your component from gradio.components\n",
      "  warnings.warn(\n",
      "C:\\Users\\arghy\\AppData\\Local\\Programs\\Python\\Python311\\Lib\\site-packages\\gradio\\deprecation.py:40: UserWarning: `optional` parameter is deprecated, and it has no effect\n",
      "  warnings.warn(value)\n",
      "C:\\Users\\arghy\\AppData\\Local\\Programs\\Python\\Python311\\Lib\\site-packages\\gradio\\outputs.py:197: UserWarning: Usage of gradio.outputs is deprecated, and will not be supported in the future, please import your components from gradio.components\n",
      "  warnings.warn(\n",
      "C:\\Users\\arghy\\AppData\\Local\\Programs\\Python\\Python311\\Lib\\site-packages\\gradio\\deprecation.py:40: UserWarning: The 'type' parameter has been deprecated. Use the Number component instead.\n",
      "  warnings.warn(value)\n"
     ]
    },
    {
     "name": "stdout",
     "output_type": "stream",
     "text": [
      "Running on local URL:  http://127.0.0.1:7864\n",
      "Running on public URL: https://8e0ace3646e4bd2957.gradio.live\n",
      "\n",
      "This share link expires in 72 hours. For free permanent hosting and GPU upgrades (NEW!), check out Spaces: https://huggingface.co/spaces\n"
     ]
    },
    {
     "data": {
      "text/html": [
       "<div><iframe src=\"https://8e0ace3646e4bd2957.gradio.live\" width=\"100%\" height=\"500\" allow=\"autoplay; camera; microphone; clipboard-read; clipboard-write;\" frameborder=\"0\" allowfullscreen></iframe></div>"
      ],
      "text/plain": [
       "<IPython.core.display.HTML object>"
      ]
     },
     "metadata": {},
     "output_type": "display_data"
    },
    {
     "data": {
      "text/plain": []
     },
     "execution_count": 9,
     "metadata": {},
     "output_type": "execute_result"
    },
    {
     "name": "stdout",
     "output_type": "stream",
     "text": [
      "1/1 [==============================] - 1s 783ms/step\n",
      "1/1 [==============================] - 0s 51ms/step\n",
      "1/1 [==============================] - 0s 60ms/step\n",
      "1/1 [==============================] - 0s 67ms/step\n"
     ]
    }
   ],
   "source": [
    "from tensorflow.keras.preprocessing import image\n",
    "\n",
    "model = tf.keras.models.load_model('./butterfly_classification_inception.h5')\n",
    "\n",
    "def classify_butterfly(img):\n",
    "    # Make prediction\n",
    "#     img = image.load_img(file_path, target_size=(224, 224))\n",
    "\n",
    "    # Preprocessing the image\n",
    "    x = image.img_to_array(img)\n",
    "    x=x/255\n",
    "    x = np.expand_dims(x, axis=0)\n",
    "\n",
    "    preds = model.predict(x)\n",
    "    preds=np.argmax(preds, axis=1)\n",
    "\n",
    "\n",
    "    # Decoding prediction\n",
    "\n",
    "    labels = {0: 'ADONIS', 1: 'AFRICAN GIANT SWALLOWTAIL', 2: 'AMERICAN SNOOT', 3: 'AN 88', 4: 'APPOLLO', 5: 'ARCIGERA FLOWER MOTH', 6: 'ATALA', 7: 'ATLAS MOTH', 8: 'BANDED ORANGE HELICONIAN', 9: 'BANDED PEACOCK', 10: 'BANDED TIGER MOTH', 11: 'BECKERS WHITE', 12: 'BIRD CHERRY ERMINE MOTH', 13: 'BLACK HAIRSTREAK', 14: 'BLUE MORPHO', 15: 'BLUE SPOTTED CROW', 16: 'BROOKES BIRDWING', 17: 'BROWN ARGUS', 18: 'BROWN SIPROETA', 19: 'CABBAGE WHITE', 20: 'CAIRNS BIRDWING', 21: 'CHALK HILL BLUE', 22: 'CHECQUERED SKIPPER', 23: 'CHESTNUT', 24: 'CINNABAR MOTH', 25: 'CLEARWING MOTH', 26: 'CLEOPATRA', 27: 'CLODIUS PARNASSIAN', 28: 'CLOUDED SULPHUR', 29: 'COMET MOTH', 30: 'COMMON BANDED AWL', 31: 'COMMON WOOD-NYMPH', 32: 'COPPER TAIL', 33: 'CRECENT', 34: 'CRIMSON PATCH', 35: 'DANAID EGGFLY', 36: 'EASTERN COMA', 37: 'EASTERN DAPPLE WHITE', 38: 'EASTERN PINE ELFIN', 39: 'ELBOWED PIERROT', 40: 'EMPEROR GUM MOTH', 41: 'GARDEN TIGER MOTH', 42: 'GIANT LEOPARD MOTH', 43: 'GLITTERING SAPPHIRE', 44: 'GOLD BANDED', 45: 'GREAT EGGFLY', 46: 'GREAT JAY', 47: 'GREEN CELLED CATTLEHEART', 48: 'GREEN HAIRSTREAK', 49: 'GREY HAIRSTREAK', 50: 'HERCULES MOTH', 51: 'HUMMING BIRD HAWK MOTH', 52: 'INDRA SWALLOW', 53: 'IO MOTH', 54: 'Iphiclus sister', 55: 'JULIA', 56: 'LARGE MARBLE', 57: 'LUNA MOTH', 58: 'MADAGASCAN SUNSET MOTH', 59: 'MALACHITE', 60: 'MANGROVE SKIPPER', 61: 'MESTRA', 62: 'METALMARK', 63: 'MILBERTS TORTOISESHELL', 64: 'MONARCH', 65: 'MOURNING CLOAK', 66: 'OLEANDER HAWK MOTH', 67: 'ORANGE OAKLEAF', 68: 'ORANGE TIP', 69: 'ORCHARD SWALLOW', 70: 'PAINTED LADY', 71: 'PAPER KITE', 72: 'PEACOCK', 73: 'PINE WHITE', 74: 'PIPEVINE SWALLOW', 75: 'POLYPHEMUS MOTH', 76: 'POPINJAY', 77: 'PURPLE HAIRSTREAK', 78: 'PURPLISH COPPER', 79: 'QUESTION MARK', 80: 'RED ADMIRAL', 81: 'RED CRACKER', 82: 'RED POSTMAN', 83: 'RED SPOTTED PURPLE', 84: 'ROSY MAPLE MOTH', 85: 'SCARCE SWALLOW', 86: 'SILVER SPOT SKIPPER', 87: 'SIXSPOT BURNET MOTH', 88: 'SLEEPY ORANGE', 89: 'SOOTYWING', 90: 'SOUTHERN DOGFACE', 91: 'STRAITED QUEEN', 92: 'TROPICAL LEAFWING', 93: 'TWO BARRED FLASHER', 94: 'ULYSES', 95: 'VICEROY', 96: 'WHITE LINED SPHINX MOTH', 97: 'WOOD SATYR', 98: 'YELLOW SWALLOW TAIL', 99: 'ZEBRA LONG WING'}\n",
    "\n",
    "    result = labels[preds[0]]\n",
    "    return result\n",
    "\n",
    "img = gr.inputs.Image(shape=(224, 224))\n",
    "label = gr.outputs.Label(num_top_classes=3)\n",
    "\n",
    "gr.Interface(fn=classify_butterfly, inputs=img, outputs=label, interpretation='default').launch(share=True)"
   ]
  },
  {
   "cell_type": "code",
   "execution_count": null,
   "id": "eb9e5abe",
   "metadata": {},
   "outputs": [],
   "source": []
  }
 ],
 "metadata": {
  "kernelspec": {
   "display_name": "Python 3 (ipykernel)",
   "language": "python",
   "name": "python3"
  },
  "language_info": {
   "codemirror_mode": {
    "name": "ipython",
    "version": 3
   },
   "file_extension": ".py",
   "mimetype": "text/x-python",
   "name": "python",
   "nbconvert_exporter": "python",
   "pygments_lexer": "ipython3",
   "version": "3.11.2"
  }
 },
 "nbformat": 4,
 "nbformat_minor": 5
}
